{
 "cells": [
  {
   "cell_type": "code",
   "execution_count": 178,
   "id": "familiar-creation",
   "metadata": {},
   "outputs": [],
   "source": [
    "import tkinter as tk\n",
    "from PIL import Image, ImageTk\n",
    "import pandas as pd"
   ]
  },
  {
   "cell_type": "code",
   "execution_count": 179,
   "id": "serial-incidence",
   "metadata": {},
   "outputs": [],
   "source": [
    "gui=tk.Tk()\n",
    "gui.geometry('800x600')\n",
    "gui.title('HOUSE MODEL')\n",
    "\n",
    "x=tk.Label(gui,text='ENter Your Income ')\n",
    "x.place(x=50,y=100)\n",
    "\n",
    "\n",
    "image = Image.open(\"fimag.webp\")\n",
    "\n",
    "resize_image = image.resize((800, 600))\n",
    "img = ImageTk.PhotoImage(resize_image)\n",
    "label1 = Label(image=img)\n",
    "label1.image = img\n",
    "label1.pack()\n",
    "\n",
    "\n",
    "\n",
    "inc=tk.StringVar(gui)\n",
    "hage=tk.StringVar(gui)\n",
    "room=tk.StringVar(gui)\n",
    "popu=tk.StringVar(gui)\n",
    "\n",
    "tk.Label(gui,text='Enter your Income ',font=0).place(x=200,y=100)\n",
    "tk.Entry(gui,textvariable=inc,width=10).place(x=425,y=100)\n",
    "\n",
    "tk.Label(gui,text='Enter Home Age ',font=0).place(x=200,y=150)\n",
    "tk.Entry(gui,textvariable=hage,width=10).place(x=425,y=150)\n",
    "\n",
    "tk.Label(gui,text='Enter No. of Rooms ',font=0).place(x=200,y=200)\n",
    "tk.Entry(gui,textvariable=room,width=10).place(x=425,y=200)\n",
    "\n",
    "tk.Label(gui,text='Enter Population ',font=0).place(x=200,y=250)\n",
    "tk.Entry(gui,textvariable=popu,width=10).place(x=425,y=250)\n",
    "\n",
    "def allwork():\n",
    "    m=pd.read_pickle('house_price_predictor.pkl')\n",
    "    income=eval(inc.get())\n",
    "    homeage=eval(hage.get())\n",
    "    roomno=eval(room.get())\n",
    "    popula=eval(popu.get())\n",
    "    q=pd.DataFrame({'income':[income],'HOuse_age':[homeage],'room':[roomno],'population':[popula]})\n",
    "    final.set(round(m.predict(q)[0],0))\n",
    "    \n",
    "b=tk.Button(gui,height=2,width=10,text='Predict Price',command=allwork)\n",
    "b.place(x=320,y=350)\n",
    "\n",
    "\n",
    "\n",
    "tk.Label(gui,text='The predicted price of your house in $:  ',font=0).place(x=150,y=450)\n",
    "\n",
    "\n",
    "final=tk.Variable(gui)\n",
    "#final.set('')\n",
    "tk.Label(gui,textvariable=final,font=0).place(x=460,y=450)\n",
    "\n",
    "\n",
    "gui.mainloop()\n"
   ]
  },
  {
   "cell_type": "code",
   "execution_count": null,
   "id": "therapeutic-transfer",
   "metadata": {},
   "outputs": [],
   "source": []
  }
 ],
 "metadata": {
  "kernelspec": {
   "display_name": "Python 3",
   "language": "python",
   "name": "python3"
  },
  "language_info": {
   "codemirror_mode": {
    "name": "ipython",
    "version": 3
   },
   "file_extension": ".py",
   "mimetype": "text/x-python",
   "name": "python",
   "nbconvert_exporter": "python",
   "pygments_lexer": "ipython3",
   "version": "3.9.2"
  }
 },
 "nbformat": 4,
 "nbformat_minor": 5
}
